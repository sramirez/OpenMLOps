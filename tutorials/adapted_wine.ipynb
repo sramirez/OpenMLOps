{
 "cells": [
  {
   "cell_type": "code",
   "execution_count": 9,
   "id": "relevant-alexander",
   "metadata": {
    "collapsed": true,
    "jupyter": {
     "outputs_hidden": true
    }
   },
   "outputs": [
    {
     "name": "stdout",
     "output_type": "stream",
     "text": [
      "Requirement already satisfied: sklearn in /opt/conda/lib/python3.8/site-packages (0.0)\n",
      "Requirement already satisfied: mlflow in /opt/conda/lib/python3.8/site-packages (1.14.1)\n",
      "Requirement already satisfied: botocore in /opt/conda/lib/python3.8/site-packages (1.22.4)\n",
      "Collecting boto3\n",
      "  Downloading boto3-1.19.4-py3-none-any.whl (131 kB)\n",
      "\u001b[K     |████████████████████████████████| 131 kB 16.0 MB/s eta 0:00:01\n",
      "\u001b[?25hRequirement already satisfied: jmespath<1.0.0,>=0.7.1 in /opt/conda/lib/python3.8/site-packages (from boto3) (0.10.0)\n",
      "Collecting s3transfer<0.6.0,>=0.5.0\n",
      "  Downloading s3transfer-0.5.0-py3-none-any.whl (79 kB)\n",
      "\u001b[K     |████████████████████████████████| 79 kB 9.3 MB/s  eta 0:00:01\n",
      "\u001b[?25hRequirement already satisfied: python-dateutil<3.0.0,>=2.1 in /opt/conda/lib/python3.8/site-packages (from botocore) (2.8.1)\n",
      "Requirement already satisfied: urllib3<1.27,>=1.25.4 in /opt/conda/lib/python3.8/site-packages (from botocore) (1.26.3)\n",
      "Requirement already satisfied: six>=1.5 in /opt/conda/lib/python3.8/site-packages (from python-dateutil<3.0.0,>=2.1->botocore) (1.15.0)\n",
      "Requirement already satisfied: sqlalchemy in /opt/conda/lib/python3.8/site-packages (from mlflow) (1.3.23)\n",
      "Requirement already satisfied: gitpython>=2.1.0 in /opt/conda/lib/python3.8/site-packages (from mlflow) (3.1.18)\n",
      "Requirement already satisfied: requests>=2.17.3 in /opt/conda/lib/python3.8/site-packages (from mlflow) (2.25.1)\n",
      "Requirement already satisfied: pandas in /opt/conda/lib/python3.8/site-packages (from mlflow) (1.0.1)\n",
      "Requirement already satisfied: databricks-cli>=0.8.7 in /opt/conda/lib/python3.8/site-packages (from mlflow) (0.14.3)\n",
      "Requirement already satisfied: cloudpickle in /opt/conda/lib/python3.8/site-packages (from mlflow) (1.6.0)\n",
      "Requirement already satisfied: pyyaml in /opt/conda/lib/python3.8/site-packages (from mlflow) (5.4.1)\n",
      "Requirement already satisfied: click>=7.0 in /opt/conda/lib/python3.8/site-packages (from mlflow) (7.1.2)\n",
      "Requirement already satisfied: numpy in /opt/conda/lib/python3.8/site-packages (from mlflow) (1.18.1)\n",
      "Requirement already satisfied: alembic<=1.4.1 in /opt/conda/lib/python3.8/site-packages (from mlflow) (1.4.1)\n",
      "Requirement already satisfied: protobuf>=3.6.0 in /opt/conda/lib/python3.8/site-packages (from mlflow) (3.17.3)\n",
      "Requirement already satisfied: pytz in /opt/conda/lib/python3.8/site-packages (from mlflow) (2021.1)\n",
      "Requirement already satisfied: prometheus-flask-exporter in /opt/conda/lib/python3.8/site-packages (from mlflow) (0.18.2)\n",
      "Requirement already satisfied: sqlparse>=0.3.1 in /opt/conda/lib/python3.8/site-packages (from mlflow) (0.4.1)\n",
      "Requirement already satisfied: Flask in /opt/conda/lib/python3.8/site-packages (from mlflow) (1.1.4)\n",
      "Requirement already satisfied: gunicorn in /opt/conda/lib/python3.8/site-packages (from mlflow) (20.0.4)\n",
      "Requirement already satisfied: querystring-parser in /opt/conda/lib/python3.8/site-packages (from mlflow) (1.2.4)\n",
      "Requirement already satisfied: entrypoints in /opt/conda/lib/python3.8/site-packages (from mlflow) (0.3)\n",
      "Requirement already satisfied: docker>=4.0.0 in /opt/conda/lib/python3.8/site-packages (from mlflow) (5.0.0)\n",
      "Requirement already satisfied: Mako in /opt/conda/lib/python3.8/site-packages (from alembic<=1.4.1->mlflow) (1.1.4)\n",
      "Requirement already satisfied: python-editor>=0.3 in /opt/conda/lib/python3.8/site-packages (from alembic<=1.4.1->mlflow) (1.0.4)\n",
      "Requirement already satisfied: tabulate>=0.7.7 in /opt/conda/lib/python3.8/site-packages (from databricks-cli>=0.8.7->mlflow) (0.8.9)\n",
      "Requirement already satisfied: websocket-client>=0.32.0 in /opt/conda/lib/python3.8/site-packages (from docker>=4.0.0->mlflow) (1.1.0)\n",
      "Requirement already satisfied: gitdb<5,>=4.0.1 in /opt/conda/lib/python3.8/site-packages (from gitpython>=2.1.0->mlflow) (4.0.7)\n",
      "Requirement already satisfied: smmap<5,>=3.0.1 in /opt/conda/lib/python3.8/site-packages (from gitdb<5,>=4.0.1->gitpython>=2.1.0->mlflow) (4.0.0)\n",
      "Requirement already satisfied: idna<3,>=2.5 in /opt/conda/lib/python3.8/site-packages (from requests>=2.17.3->mlflow) (2.10)\n",
      "Requirement already satisfied: chardet<5,>=3.0.2 in /opt/conda/lib/python3.8/site-packages (from requests>=2.17.3->mlflow) (4.0.0)\n",
      "Requirement already satisfied: certifi>=2017.4.17 in /opt/conda/lib/python3.8/site-packages (from requests>=2.17.3->mlflow) (2021.5.30)\n",
      "Requirement already satisfied: scikit-learn in /opt/conda/lib/python3.8/site-packages (from sklearn) (1.0.1)\n",
      "Requirement already satisfied: Jinja2<3.0,>=2.10.1 in /opt/conda/lib/python3.8/site-packages (from Flask->mlflow) (2.11.3)\n",
      "Requirement already satisfied: Werkzeug<2.0,>=0.15 in /opt/conda/lib/python3.8/site-packages (from Flask->mlflow) (1.0.1)\n",
      "Requirement already satisfied: itsdangerous<2.0,>=0.24 in /opt/conda/lib/python3.8/site-packages (from Flask->mlflow) (1.1.0)\n",
      "Requirement already satisfied: MarkupSafe>=0.23 in /opt/conda/lib/python3.8/site-packages (from Jinja2<3.0,>=2.10.1->Flask->mlflow) (1.1.1)\n",
      "Requirement already satisfied: setuptools>=3.0 in /opt/conda/lib/python3.8/site-packages (from gunicorn->mlflow) (49.6.0.post20210108)\n",
      "Requirement already satisfied: prometheus-client in /opt/conda/lib/python3.8/site-packages (from prometheus-flask-exporter->mlflow) (0.8.0)\n",
      "Requirement already satisfied: joblib>=0.11 in /opt/conda/lib/python3.8/site-packages (from scikit-learn->sklearn) (1.1.0)\n",
      "Requirement already satisfied: threadpoolctl>=2.0.0 in /opt/conda/lib/python3.8/site-packages (from scikit-learn->sklearn) (3.0.0)\n",
      "Requirement already satisfied: scipy>=1.1.0 in /opt/conda/lib/python3.8/site-packages (from scikit-learn->sklearn) (1.7.1)\n",
      "Installing collected packages: s3transfer, boto3\n",
      "Successfully installed boto3-1.19.4 s3transfer-0.5.0\n"
     ]
    }
   ],
   "source": [
    "!pip install sklearn mlflow botocore boto3"
   ]
  },
  {
   "cell_type": "code",
   "execution_count": 19,
   "id": "operating-michael",
   "metadata": {},
   "outputs": [],
   "source": [
    "from prefect import task, Flow, Parameter, Client\n",
    "from prefect.run_configs import KubernetesRun\n",
    "from prefect.schedules import IntervalSchedule\n",
    "from prefect.storage import S3, Local\n",
    "\n",
    "from sklearn.metrics import mean_squared_error, mean_absolute_error, r2_score\n",
    "from sklearn.model_selection import train_test_split\n",
    "from sklearn.linear_model import ElasticNet\n",
    "\n",
    "from datetime import timedelta\n",
    "\n",
    "import numpy as np\n",
    "import pandas as pd\n",
    "\n",
    "import mlflow\n",
    "import requests"
   ]
  },
  {
   "cell_type": "code",
   "execution_count": 22,
   "id": "incident-tension",
   "metadata": {},
   "outputs": [],
   "source": [
    "#@task\n",
    "def fetch_data():\n",
    "    csv_url = \"http://archive.ics.uci.edu/ml/machine-learning-databases/wine-quality/winequality-red.csv\"\n",
    "    data = pd.read_csv(csv_url, sep=\";\")\n",
    "    return data\n",
    "\n",
    "#@task\n",
    "def eval_metrics(actual, pred):\n",
    "    rmse = np.sqrt(mean_squared_error(actual, pred))\n",
    "    mae = mean_absolute_error(actual, pred)\n",
    "    r2 = r2_score(actual, pred)\n",
    "    return rmse, mae, r2\n",
    "\n",
    "#@task\n",
    "def train_model(data, mlflow_experiment_id, alpha=0.5, l1_ratio=0.5):\n",
    "    mlflow.set_tracking_uri(\"http://mlflow.mlflow:5000\")\n",
    "\n",
    "    train, test = train_test_split(data)\n",
    "\n",
    "    # The predicted column is \"quality\" which is a scalar from [3, 9]\n",
    "    train_x = train.drop([\"quality\"], axis=1)\n",
    "    test_x = test.drop([\"quality\"], axis=1)\n",
    "    train_y = train[[\"quality\"]]\n",
    "    test_y = test[[\"quality\"]]\n",
    "    \n",
    "    with mlflow.start_run(experiment_id=mlflow_experiment_id):\n",
    "        lr = ElasticNet(alpha=alpha, l1_ratio=l1_ratio, random_state=42)\n",
    "        lr.fit(train_x, train_y)\n",
    "        predicted_qualities = lr.predict(test_x)\n",
    "        (rmse, mae, r2) = eval_metrics(test_y, predicted_qualities)\n",
    "\n",
    "        print(\"Elasticnet model (alpha=%f, l1_ratio=%f):\" % (alpha, l1_ratio))\n",
    "        print(\"  RMSE: %s\" % rmse)\n",
    "        print(\"  MAE: %s\" % mae)\n",
    "        print(\"  R2: %s\" % r2)\n",
    "\n",
    "        mlflow.log_param(\"alpha\", alpha)\n",
    "        mlflow.log_param(\"l1_ratio\", l1_ratio)\n",
    "        mlflow.log_metric(\"rmse\", rmse)\n",
    "        mlflow.log_metric(\"r2\", r2)\n",
    "        mlflow.log_metric(\"mae\", mae)\n",
    "\n",
    "        mlflow.sklearn.log_model(lr, \"model\")"
   ]
  },
  {
   "cell_type": "code",
   "execution_count": 23,
   "id": "english-aruba",
   "metadata": {},
   "outputs": [
    {
     "name": "stdout",
     "output_type": "stream",
     "text": [
      "Elasticnet model (alpha=0.500000, l1_ratio=0.500000):\n",
      "  RMSE: 0.7493258424553656\n",
      "  MAE: 0.6128090235079842\n",
      "  R2: 0.13480608933865978\n"
     ]
    }
   ],
   "source": [
    "data = fetch_data()\n",
    "train_model(data, 1)"
   ]
  },
  {
   "cell_type": "code",
   "execution_count": 20,
   "id": "cutting-thumbnail",
   "metadata": {},
   "outputs": [
    {
     "name": "stderr",
     "output_type": "stream",
     "text": [
      "<ipython-input-20-390383d4c8b2>:30: UserWarning: No result handler was specified on your Flow. Cloud features such as input caching and resuming task runs from failure may not work properly.\n",
      "  training_flow_id = prefect_client.register(flow, project_name=prefect_project_name)\n"
     ]
    },
    {
     "name": "stdout",
     "output_type": "stream",
     "text": [
      "Result check: OK\n"
     ]
    },
    {
     "ename": "ClientError",
     "evalue": "400 Client Error: Bad Request for url: http://10.110.135.242:4200/graphql\n\nThe following error messages were provided by the GraphQL server:\n\n    GRAPHQL_VALIDATION_FAILED: Cannot query field \"user\" on type \"Query\".\n\nThe GraphQL query was:\n\n    query {\n            user {\n                default_membership {\n                    tenant {\n                        slug\n                }\n            }\n        }\n    }\n\nThe passed variables were:\n\n    null\n",
     "output_type": "error",
     "traceback": [
      "\u001b[0;31m---------------------------------------------------------------------------\u001b[0m",
      "\u001b[0;31mHTTPError\u001b[0m                                 Traceback (most recent call last)",
      "\u001b[0;32m/opt/conda/lib/python3.8/site-packages/prefect/client/client.py\u001b[0m in \u001b[0;36m_send_request\u001b[0;34m(self, session, method, url, params, headers)\u001b[0m\n\u001b[1;32m    374\u001b[0m         \u001b[0;32mtry\u001b[0m\u001b[0;34m:\u001b[0m\u001b[0;34m\u001b[0m\u001b[0;34m\u001b[0m\u001b[0m\n\u001b[0;32m--> 375\u001b[0;31m             \u001b[0mresponse\u001b[0m\u001b[0;34m.\u001b[0m\u001b[0mraise_for_status\u001b[0m\u001b[0;34m(\u001b[0m\u001b[0;34m)\u001b[0m\u001b[0;34m\u001b[0m\u001b[0;34m\u001b[0m\u001b[0m\n\u001b[0m\u001b[1;32m    376\u001b[0m         \u001b[0;32mexcept\u001b[0m \u001b[0mrequests\u001b[0m\u001b[0;34m.\u001b[0m\u001b[0mHTTPError\u001b[0m \u001b[0;32mas\u001b[0m \u001b[0mexc\u001b[0m\u001b[0;34m:\u001b[0m\u001b[0;34m\u001b[0m\u001b[0;34m\u001b[0m\u001b[0m\n",
      "\u001b[0;32m/opt/conda/lib/python3.8/site-packages/requests/models.py\u001b[0m in \u001b[0;36mraise_for_status\u001b[0;34m(self)\u001b[0m\n\u001b[1;32m    942\u001b[0m         \u001b[0;32mif\u001b[0m \u001b[0mhttp_error_msg\u001b[0m\u001b[0;34m:\u001b[0m\u001b[0;34m\u001b[0m\u001b[0;34m\u001b[0m\u001b[0m\n\u001b[0;32m--> 943\u001b[0;31m             \u001b[0;32mraise\u001b[0m \u001b[0mHTTPError\u001b[0m\u001b[0;34m(\u001b[0m\u001b[0mhttp_error_msg\u001b[0m\u001b[0;34m,\u001b[0m \u001b[0mresponse\u001b[0m\u001b[0;34m=\u001b[0m\u001b[0mself\u001b[0m\u001b[0;34m)\u001b[0m\u001b[0;34m\u001b[0m\u001b[0;34m\u001b[0m\u001b[0m\n\u001b[0m\u001b[1;32m    944\u001b[0m \u001b[0;34m\u001b[0m\u001b[0m\n",
      "\u001b[0;31mHTTPError\u001b[0m: 400 Client Error: Bad Request for url: http://10.110.135.242:4200/graphql",
      "\nThe above exception was the direct cause of the following exception:\n",
      "\u001b[0;31mClientError\u001b[0m                               Traceback (most recent call last)",
      "\u001b[0;32m<ipython-input-20-390383d4c8b2>\u001b[0m in \u001b[0;36m<module>\u001b[0;34m\u001b[0m\n\u001b[1;32m     31\u001b[0m     \u001b[0mflow_run_id\u001b[0m \u001b[0;34m=\u001b[0m \u001b[0mprefect_client\u001b[0m\u001b[0;34m.\u001b[0m\u001b[0mcreate_flow_run\u001b[0m\u001b[0;34m(\u001b[0m\u001b[0mflow_id\u001b[0m\u001b[0;34m=\u001b[0m\u001b[0mtraining_flow_id\u001b[0m\u001b[0;34m,\u001b[0m \u001b[0mrun_name\u001b[0m\u001b[0;34m=\u001b[0m\u001b[0;34mf\"run {prefect_project_name}\"\u001b[0m\u001b[0;34m)\u001b[0m\u001b[0;34m\u001b[0m\u001b[0;34m\u001b[0m\u001b[0m\n\u001b[1;32m     32\u001b[0m \u001b[0;34m\u001b[0m\u001b[0m\n\u001b[0;32m---> 33\u001b[0;31m \u001b[0mcreate_prefect_flow\u001b[0m\u001b[0;34m(\u001b[0m\u001b[0;34m)\u001b[0m\u001b[0;34m\u001b[0m\u001b[0;34m\u001b[0m\u001b[0m\n\u001b[0m",
      "\u001b[0;32m<ipython-input-20-390383d4c8b2>\u001b[0m in \u001b[0;36mcreate_prefect_flow\u001b[0;34m()\u001b[0m\n\u001b[1;32m     28\u001b[0m \u001b[0;34m\u001b[0m\u001b[0m\n\u001b[1;32m     29\u001b[0m     \u001b[0;31m#prefect_client.create_project(project_name=prefect_project_name)\u001b[0m\u001b[0;34m\u001b[0m\u001b[0;34m\u001b[0m\u001b[0;34m\u001b[0m\u001b[0m\n\u001b[0;32m---> 30\u001b[0;31m     \u001b[0mtraining_flow_id\u001b[0m \u001b[0;34m=\u001b[0m \u001b[0mprefect_client\u001b[0m\u001b[0;34m.\u001b[0m\u001b[0mregister\u001b[0m\u001b[0;34m(\u001b[0m\u001b[0mflow\u001b[0m\u001b[0;34m,\u001b[0m \u001b[0mproject_name\u001b[0m\u001b[0;34m=\u001b[0m\u001b[0mprefect_project_name\u001b[0m\u001b[0;34m)\u001b[0m\u001b[0;34m\u001b[0m\u001b[0;34m\u001b[0m\u001b[0m\n\u001b[0m\u001b[1;32m     31\u001b[0m     \u001b[0mflow_run_id\u001b[0m \u001b[0;34m=\u001b[0m \u001b[0mprefect_client\u001b[0m\u001b[0;34m.\u001b[0m\u001b[0mcreate_flow_run\u001b[0m\u001b[0;34m(\u001b[0m\u001b[0mflow_id\u001b[0m\u001b[0;34m=\u001b[0m\u001b[0mtraining_flow_id\u001b[0m\u001b[0;34m,\u001b[0m \u001b[0mrun_name\u001b[0m\u001b[0;34m=\u001b[0m\u001b[0;34mf\"run {prefect_project_name}\"\u001b[0m\u001b[0;34m)\u001b[0m\u001b[0;34m\u001b[0m\u001b[0;34m\u001b[0m\u001b[0m\n\u001b[1;32m     32\u001b[0m \u001b[0;34m\u001b[0m\u001b[0m\n",
      "\u001b[0;32m/opt/conda/lib/python3.8/site-packages/prefect/client/client.py\u001b[0m in \u001b[0;36mregister\u001b[0;34m(self, flow, project_name, build, set_schedule_active, version_group_id, compressed, no_url, idempotency_key)\u001b[0m\n\u001b[1;32m    857\u001b[0m \u001b[0;34m\u001b[0m\u001b[0m\n\u001b[1;32m    858\u001b[0m             \u001b[0;31m# Generate direct link to Cloud flow\u001b[0m\u001b[0;34m\u001b[0m\u001b[0;34m\u001b[0m\u001b[0;34m\u001b[0m\u001b[0m\n\u001b[0;32m--> 859\u001b[0;31m             \u001b[0mflow_url\u001b[0m \u001b[0;34m=\u001b[0m \u001b[0mself\u001b[0m\u001b[0;34m.\u001b[0m\u001b[0mget_cloud_url\u001b[0m\u001b[0;34m(\u001b[0m\u001b[0;34m\"flow\"\u001b[0m\u001b[0;34m,\u001b[0m \u001b[0mflow_group_id\u001b[0m\u001b[0;34m)\u001b[0m\u001b[0;34m\u001b[0m\u001b[0;34m\u001b[0m\u001b[0m\n\u001b[0m\u001b[1;32m    860\u001b[0m \u001b[0;34m\u001b[0m\u001b[0m\n\u001b[1;32m    861\u001b[0m             \u001b[0mprefix\u001b[0m \u001b[0;34m=\u001b[0m \u001b[0;34m\"└── \"\u001b[0m\u001b[0;34m\u001b[0m\u001b[0;34m\u001b[0m\u001b[0m\n",
      "\u001b[0;32m/opt/conda/lib/python3.8/site-packages/prefect/client/client.py\u001b[0m in \u001b[0;36mget_cloud_url\u001b[0;34m(self, subdirectory, id, as_user)\u001b[0m\n\u001b[1;32m    906\u001b[0m         \u001b[0;31m# Search for matching cloud API because we can't guarantee that the backend config is set\u001b[0m\u001b[0;34m\u001b[0m\u001b[0;34m\u001b[0m\u001b[0;34m\u001b[0m\u001b[0m\n\u001b[1;32m    907\u001b[0m         \u001b[0musing_cloud_api\u001b[0m \u001b[0;34m=\u001b[0m \u001b[0;34m\".prefect.io\"\u001b[0m \u001b[0;32min\u001b[0m \u001b[0mprefect\u001b[0m\u001b[0;34m.\u001b[0m\u001b[0mconfig\u001b[0m\u001b[0;34m.\u001b[0m\u001b[0mcloud\u001b[0m\u001b[0;34m.\u001b[0m\u001b[0mapi\u001b[0m\u001b[0;34m\u001b[0m\u001b[0;34m\u001b[0m\u001b[0m\n\u001b[0;32m--> 908\u001b[0;31m         \u001b[0mtenant_slug\u001b[0m \u001b[0;34m=\u001b[0m \u001b[0mself\u001b[0m\u001b[0;34m.\u001b[0m\u001b[0mget_default_tenant_slug\u001b[0m\u001b[0;34m(\u001b[0m\u001b[0mas_user\u001b[0m\u001b[0;34m=\u001b[0m\u001b[0mas_user\u001b[0m \u001b[0;32mand\u001b[0m \u001b[0musing_cloud_api\u001b[0m\u001b[0;34m)\u001b[0m\u001b[0;34m\u001b[0m\u001b[0;34m\u001b[0m\u001b[0m\n\u001b[0m\u001b[1;32m    909\u001b[0m \u001b[0;34m\u001b[0m\u001b[0m\n\u001b[1;32m    910\u001b[0m         \u001b[0;31m# For various API versions parse out `api-` for direct UI link\u001b[0m\u001b[0;34m\u001b[0m\u001b[0;34m\u001b[0m\u001b[0;34m\u001b[0m\u001b[0m\n",
      "\u001b[0;32m/opt/conda/lib/python3.8/site-packages/prefect/client/client.py\u001b[0m in \u001b[0;36mget_default_tenant_slug\u001b[0;34m(self, as_user)\u001b[0m\n\u001b[1;32m    939\u001b[0m             \u001b[0mquery\u001b[0m \u001b[0;34m=\u001b[0m \u001b[0;34m{\u001b[0m\u001b[0;34m\"query\"\u001b[0m\u001b[0;34m:\u001b[0m \u001b[0;34m{\u001b[0m\u001b[0;34m\"tenant\"\u001b[0m\u001b[0;34m:\u001b[0m \u001b[0;34m{\u001b[0m\u001b[0;34m\"slug\"\u001b[0m\u001b[0;34m}\u001b[0m\u001b[0;34m}\u001b[0m\u001b[0;34m}\u001b[0m\u001b[0;34m\u001b[0m\u001b[0;34m\u001b[0m\u001b[0m\n\u001b[1;32m    940\u001b[0m \u001b[0;34m\u001b[0m\u001b[0m\n\u001b[0;32m--> 941\u001b[0;31m         \u001b[0mres\u001b[0m \u001b[0;34m=\u001b[0m \u001b[0mself\u001b[0m\u001b[0;34m.\u001b[0m\u001b[0mgraphql\u001b[0m\u001b[0;34m(\u001b[0m\u001b[0mquery\u001b[0m\u001b[0;34m)\u001b[0m\u001b[0;34m\u001b[0m\u001b[0;34m\u001b[0m\u001b[0m\n\u001b[0m\u001b[1;32m    942\u001b[0m \u001b[0;34m\u001b[0m\u001b[0m\n\u001b[1;32m    943\u001b[0m         \u001b[0;32mif\u001b[0m \u001b[0mas_user\u001b[0m\u001b[0;34m:\u001b[0m\u001b[0;34m\u001b[0m\u001b[0;34m\u001b[0m\u001b[0m\n",
      "\u001b[0;32m/opt/conda/lib/python3.8/site-packages/prefect/client/client.py\u001b[0m in \u001b[0;36mgraphql\u001b[0;34m(self, query, raise_on_error, headers, variables, token, retry_on_api_error)\u001b[0m\n\u001b[1;32m    296\u001b[0m             \u001b[0;34m-\u001b[0m \u001b[0mClientError\u001b[0m \u001b[0;32mif\u001b[0m \u001b[0mthere\u001b[0m \u001b[0mare\u001b[0m \u001b[0merrors\u001b[0m \u001b[0mraised\u001b[0m \u001b[0mby\u001b[0m \u001b[0mthe\u001b[0m \u001b[0mGraphQL\u001b[0m \u001b[0mmutation\u001b[0m\u001b[0;34m\u001b[0m\u001b[0;34m\u001b[0m\u001b[0m\n\u001b[1;32m    297\u001b[0m         \"\"\"\n\u001b[0;32m--> 298\u001b[0;31m         result = self.post(\n\u001b[0m\u001b[1;32m    299\u001b[0m             \u001b[0mpath\u001b[0m\u001b[0;34m=\u001b[0m\u001b[0;34m\"\"\u001b[0m\u001b[0;34m,\u001b[0m\u001b[0;34m\u001b[0m\u001b[0;34m\u001b[0m\u001b[0m\n\u001b[1;32m    300\u001b[0m             \u001b[0mserver\u001b[0m\u001b[0;34m=\u001b[0m\u001b[0mself\u001b[0m\u001b[0;34m.\u001b[0m\u001b[0mapi_server\u001b[0m\u001b[0;34m,\u001b[0m\u001b[0;34m\u001b[0m\u001b[0;34m\u001b[0m\u001b[0m\n",
      "\u001b[0;32m/opt/conda/lib/python3.8/site-packages/prefect/client/client.py\u001b[0m in \u001b[0;36mpost\u001b[0;34m(self, path, server, headers, params, token, retry_on_api_error)\u001b[0m\n\u001b[1;32m    211\u001b[0m             \u001b[0;34m-\u001b[0m \u001b[0mdict\u001b[0m\u001b[0;34m:\u001b[0m \u001b[0mDictionary\u001b[0m \u001b[0mrepresentation\u001b[0m \u001b[0mof\u001b[0m \u001b[0mthe\u001b[0m \u001b[0mrequest\u001b[0m \u001b[0mmade\u001b[0m\u001b[0;34m\u001b[0m\u001b[0;34m\u001b[0m\u001b[0m\n\u001b[1;32m    212\u001b[0m         \"\"\"\n\u001b[0;32m--> 213\u001b[0;31m         response = self._request(\n\u001b[0m\u001b[1;32m    214\u001b[0m             \u001b[0mmethod\u001b[0m\u001b[0;34m=\u001b[0m\u001b[0;34m\"POST\"\u001b[0m\u001b[0;34m,\u001b[0m\u001b[0;34m\u001b[0m\u001b[0;34m\u001b[0m\u001b[0m\n\u001b[1;32m    215\u001b[0m             \u001b[0mpath\u001b[0m\u001b[0;34m=\u001b[0m\u001b[0mpath\u001b[0m\u001b[0;34m,\u001b[0m\u001b[0;34m\u001b[0m\u001b[0;34m\u001b[0m\u001b[0m\n",
      "\u001b[0;32m/opt/conda/lib/python3.8/site-packages/prefect/client/client.py\u001b[0m in \u001b[0;36m_request\u001b[0;34m(self, method, path, params, server, headers, token, retry_on_api_error)\u001b[0m\n\u001b[1;32m    457\u001b[0m         )\n\u001b[1;32m    458\u001b[0m         \u001b[0msession\u001b[0m\u001b[0;34m.\u001b[0m\u001b[0mmount\u001b[0m\u001b[0;34m(\u001b[0m\u001b[0;34m\"https://\"\u001b[0m\u001b[0;34m,\u001b[0m \u001b[0mrequests\u001b[0m\u001b[0;34m.\u001b[0m\u001b[0madapters\u001b[0m\u001b[0;34m.\u001b[0m\u001b[0mHTTPAdapter\u001b[0m\u001b[0;34m(\u001b[0m\u001b[0mmax_retries\u001b[0m\u001b[0;34m=\u001b[0m\u001b[0mretries\u001b[0m\u001b[0;34m)\u001b[0m\u001b[0;34m)\u001b[0m\u001b[0;34m\u001b[0m\u001b[0;34m\u001b[0m\u001b[0m\n\u001b[0;32m--> 459\u001b[0;31m         response = self._send_request(\n\u001b[0m\u001b[1;32m    460\u001b[0m             \u001b[0msession\u001b[0m\u001b[0;34m=\u001b[0m\u001b[0msession\u001b[0m\u001b[0;34m,\u001b[0m \u001b[0mmethod\u001b[0m\u001b[0;34m=\u001b[0m\u001b[0mmethod\u001b[0m\u001b[0;34m,\u001b[0m \u001b[0murl\u001b[0m\u001b[0;34m=\u001b[0m\u001b[0murl\u001b[0m\u001b[0;34m,\u001b[0m \u001b[0mparams\u001b[0m\u001b[0;34m=\u001b[0m\u001b[0mparams\u001b[0m\u001b[0;34m,\u001b[0m \u001b[0mheaders\u001b[0m\u001b[0;34m=\u001b[0m\u001b[0mheaders\u001b[0m\u001b[0;34m\u001b[0m\u001b[0;34m\u001b[0m\u001b[0m\n\u001b[1;32m    461\u001b[0m         )\n",
      "\u001b[0;32m/opt/conda/lib/python3.8/site-packages/prefect/client/client.py\u001b[0m in \u001b[0;36m_send_request\u001b[0;34m(self, session, method, url, params, headers)\u001b[0m\n\u001b[1;32m    386\u001b[0m                         \u001b[0;34m\"mutation but the response could not be parsed for more details\"\u001b[0m\u001b[0;34m\u001b[0m\u001b[0;34m\u001b[0m\u001b[0m\n\u001b[1;32m    387\u001b[0m                     )\n\u001b[0;32m--> 388\u001b[0;31m                 \u001b[0;32mraise\u001b[0m \u001b[0mClientError\u001b[0m\u001b[0;34m(\u001b[0m\u001b[0;34mf\"{exc}\\n{graphql_msg}\"\u001b[0m\u001b[0;34m)\u001b[0m \u001b[0;32mfrom\u001b[0m \u001b[0mexc\u001b[0m\u001b[0;34m\u001b[0m\u001b[0;34m\u001b[0m\u001b[0m\n\u001b[0m\u001b[1;32m    389\u001b[0m \u001b[0;34m\u001b[0m\u001b[0m\n\u001b[1;32m    390\u001b[0m             \u001b[0;31m# Server-side and non-graphql errors will be raised without modification\u001b[0m\u001b[0;34m\u001b[0m\u001b[0;34m\u001b[0m\u001b[0;34m\u001b[0m\u001b[0m\n",
      "\u001b[0;31mClientError\u001b[0m: 400 Client Error: Bad Request for url: http://10.110.135.242:4200/graphql\n\nThe following error messages were provided by the GraphQL server:\n\n    GRAPHQL_VALIDATION_FAILED: Cannot query field \"user\" on type \"Query\".\n\nThe GraphQL query was:\n\n    query {\n            user {\n                default_membership {\n                    tenant {\n                        slug\n                }\n            }\n        }\n    }\n\nThe passed variables were:\n\n    null\n"
     ]
    }
   ],
   "source": [
    "domain = \"mlops.ritza-route53.com\"  # the domain where you are hosting Open MLOps\n",
    "username = \"gareth@ritza.co\"        # the username you used to register on Open MLOps\n",
    "password = \"DkguP5GsB9yiPk8\"        # the password you used to register on Open MLOps\n",
    "s3_bucket = \"another-mlops-bucket\"  # the S3 bucket you specified when setting up Open MLOps\n",
    "\n",
    "prefect_project_name = \"Test\"         # you can use what you want here\n",
    "docker_image = \"drtools/prefect:wine-classifier-3\"    # any docker image that has the required Python dependencies\n",
    "\n",
    "\n",
    "#auth_url = f\"https://{domain}/.ory/kratos/public/self-service/login/api\"\n",
    "prefect_url = f\"http://10.110.135.242:4200/graphql\"\n",
    "\n",
    "def create_prefect_flow():\n",
    "    run_config = KubernetesRun(\n",
    "        labels=[\"dev\"],\n",
    "        service_account_name=\"prefect-server-serviceaccount\",\n",
    "        image=docker_image\n",
    "    )\n",
    "    storage = Local('/tmp')\n",
    "\n",
    "    #session_token = get_prefect_token()\n",
    "    prefect_client = Client(api_server=prefect_url)\n",
    "    schedule = IntervalSchedule(interval=timedelta(minutes=2))\n",
    "\n",
    "    with Flow(\"train-wine-quality-model\", schedule, storage=storage, run_config=run_config) as flow:\n",
    "        data = fetch_data()\n",
    "        train_model(data=data, mlflow_experiment_id=1, alpha=0.3, l1_ratio=0.3)\n",
    "\n",
    "    #prefect_client.create_project(project_name=prefect_project_name)\n",
    "    training_flow_id = prefect_client.register(flow, project_name=prefect_project_name)\n",
    "    flow_run_id = prefect_client.create_flow_run(flow_id=training_flow_id, run_name=f\"run {prefect_project_name}\")\n",
    "    \n",
    "create_prefect_flow()"
   ]
  }
 ],
 "metadata": {
  "kernelspec": {
   "display_name": "Python 3",
   "language": "python",
   "name": "python3"
  },
  "language_info": {
   "codemirror_mode": {
    "name": "ipython",
    "version": 3
   },
   "file_extension": ".py",
   "mimetype": "text/x-python",
   "name": "python",
   "nbconvert_exporter": "python",
   "pygments_lexer": "ipython3",
   "version": "3.8.6"
  }
 },
 "nbformat": 4,
 "nbformat_minor": 5
}
