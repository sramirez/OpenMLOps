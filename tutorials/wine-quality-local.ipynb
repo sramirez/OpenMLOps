{
 "cells": [
  {
   "cell_type": "code",
   "execution_count": 1,
   "metadata": {},
   "outputs": [
    {
     "name": "stdout",
     "output_type": "stream",
     "text": [
      "Collecting sklearn\n",
      "  Downloading sklearn-0.0.tar.gz (1.1 kB)\n",
      "Collecting boto3\n",
      "  Downloading boto3-1.19.9-py3-none-any.whl (131 kB)\n",
      "\u001b[K     |████████████████████████████████| 131 kB 14.1 MB/s eta 0:00:01\n",
      "\u001b[?25hCollecting botocore\n",
      "  Downloading botocore-1.22.9-py3-none-any.whl (8.1 MB)\n",
      "\u001b[K     |████████████████████████████████| 8.1 MB 18.2 MB/s eta 0:00:01\n",
      "\u001b[?25hRequirement already satisfied: mlflow in /opt/conda/lib/python3.8/site-packages (1.14.1)\n",
      "Requirement already satisfied: pandas in /opt/conda/lib/python3.8/site-packages (1.0.1)\n",
      "Collecting prefect==0.14.16\n",
      "  Downloading prefect-0.14.16-py3-none-any.whl (508 kB)\n",
      "\u001b[K     |████████████████████████████████| 508 kB 52.5 MB/s eta 0:00:01\n",
      "\u001b[?25hRequirement already satisfied: marshmallow-oneofschema>=2.0.0b2 in /opt/conda/lib/python3.8/site-packages (from prefect==0.14.16) (3.0.1)\n",
      "Requirement already satisfied: pyyaml>=3.13 in /opt/conda/lib/python3.8/site-packages (from prefect==0.14.16) (5.4.1)\n",
      "Requirement already satisfied: python-slugify>=1.2.6 in /opt/conda/lib/python3.8/site-packages (from prefect==0.14.16) (5.0.2)\n",
      "Requirement already satisfied: tabulate>=0.8.0 in /opt/conda/lib/python3.8/site-packages (from prefect==0.14.16) (0.8.9)\n",
      "Requirement already satisfied: docker>=3.4.1 in /opt/conda/lib/python3.8/site-packages (from prefect==0.14.16) (5.0.0)\n",
      "Requirement already satisfied: toml>=0.9.4 in /opt/conda/lib/python3.8/site-packages (from prefect==0.14.16) (0.10.2)\n",
      "Requirement already satisfied: dask>=2.17.0 in /opt/conda/lib/python3.8/site-packages (from prefect==0.14.16) (2021.7.0)\n",
      "Requirement already satisfied: python-box>=5.1.0 in /opt/conda/lib/python3.8/site-packages (from prefect==0.14.16) (5.3.0)\n",
      "Requirement already satisfied: click>=7.0 in /opt/conda/lib/python3.8/site-packages (from prefect==0.14.16) (7.1.2)\n",
      "Requirement already satisfied: marshmallow>=3.0.0b19 in /opt/conda/lib/python3.8/site-packages (from prefect==0.14.16) (3.13.0)\n",
      "Requirement already satisfied: mypy-extensions>=0.4.0 in /opt/conda/lib/python3.8/site-packages (from prefect==0.14.16) (0.4.3)\n",
      "Requirement already satisfied: requests>=2.20 in /opt/conda/lib/python3.8/site-packages (from prefect==0.14.16) (2.25.1)\n",
      "Requirement already satisfied: cloudpickle>=1.3.0 in /opt/conda/lib/python3.8/site-packages (from prefect==0.14.16) (1.6.0)\n",
      "Requirement already satisfied: distributed>=2.17.0 in /opt/conda/lib/python3.8/site-packages (from prefect==0.14.16) (2021.7.0)\n",
      "Requirement already satisfied: urllib3>=1.24.3 in /opt/conda/lib/python3.8/site-packages (from prefect==0.14.16) (1.26.3)\n",
      "Requirement already satisfied: msgpack>=0.6.0 in /opt/conda/lib/python3.8/site-packages (from prefect==0.14.16) (1.0.2)\n",
      "Requirement already satisfied: pytz>=2018.7 in /opt/conda/lib/python3.8/site-packages (from prefect==0.14.16) (2021.1)\n",
      "Requirement already satisfied: python-dateutil>=2.7.0 in /opt/conda/lib/python3.8/site-packages (from prefect==0.14.16) (2.8.1)\n",
      "Requirement already satisfied: pendulum>=2.0.4 in /opt/conda/lib/python3.8/site-packages (from prefect==0.14.16) (2.1.2)\n",
      "Requirement already satisfied: croniter<1.0,>=0.3.24 in /opt/conda/lib/python3.8/site-packages (from prefect==0.14.16) (0.3.37)\n",
      "Requirement already satisfied: natsort in /opt/conda/lib/python3.8/site-packages (from croniter<1.0,>=0.3.24->prefect==0.14.16) (7.1.1)\n",
      "Requirement already satisfied: partd>=0.3.10 in /opt/conda/lib/python3.8/site-packages (from dask>=2.17.0->prefect==0.14.16) (1.2.0)\n",
      "Requirement already satisfied: fsspec>=0.6.0 in /opt/conda/lib/python3.8/site-packages (from dask>=2.17.0->prefect==0.14.16) (2021.7.0)\n",
      "Requirement already satisfied: toolz>=0.8.2 in /opt/conda/lib/python3.8/site-packages (from dask>=2.17.0->prefect==0.14.16) (0.11.1)\n",
      "Requirement already satisfied: sortedcontainers!=2.0.0,!=2.0.1 in /opt/conda/lib/python3.8/site-packages (from distributed>=2.17.0->prefect==0.14.16) (2.4.0)\n",
      "Requirement already satisfied: zict>=0.1.3 in /opt/conda/lib/python3.8/site-packages (from distributed>=2.17.0->prefect==0.14.16) (2.0.0)\n",
      "Requirement already satisfied: psutil>=5.0 in /opt/conda/lib/python3.8/site-packages (from distributed>=2.17.0->prefect==0.14.16) (5.8.0)\n",
      "Requirement already satisfied: tblib>=1.6.0 in /opt/conda/lib/python3.8/site-packages (from distributed>=2.17.0->prefect==0.14.16) (1.7.0)\n",
      "Requirement already satisfied: setuptools in /opt/conda/lib/python3.8/site-packages (from distributed>=2.17.0->prefect==0.14.16) (49.6.0.post20210108)\n",
      "Requirement already satisfied: tornado>=6.0.3 in /opt/conda/lib/python3.8/site-packages (from distributed>=2.17.0->prefect==0.14.16) (6.1)\n",
      "Requirement already satisfied: websocket-client>=0.32.0 in /opt/conda/lib/python3.8/site-packages (from docker>=3.4.1->prefect==0.14.16) (1.1.0)\n",
      "Requirement already satisfied: locket in /opt/conda/lib/python3.8/site-packages (from partd>=0.3.10->dask>=2.17.0->prefect==0.14.16) (0.2.0)\n",
      "Requirement already satisfied: pytzdata>=2020.1 in /opt/conda/lib/python3.8/site-packages (from pendulum>=2.0.4->prefect==0.14.16) (2020.1)\n",
      "Requirement already satisfied: six>=1.5 in /opt/conda/lib/python3.8/site-packages (from python-dateutil>=2.7.0->prefect==0.14.16) (1.15.0)\n",
      "Requirement already satisfied: text-unidecode>=1.3 in /opt/conda/lib/python3.8/site-packages (from python-slugify>=1.2.6->prefect==0.14.16) (1.3)\n",
      "Requirement already satisfied: certifi>=2017.4.17 in /opt/conda/lib/python3.8/site-packages (from requests>=2.20->prefect==0.14.16) (2021.5.30)\n",
      "Requirement already satisfied: chardet<5,>=3.0.2 in /opt/conda/lib/python3.8/site-packages (from requests>=2.20->prefect==0.14.16) (4.0.0)\n",
      "Requirement already satisfied: idna<3,>=2.5 in /opt/conda/lib/python3.8/site-packages (from requests>=2.20->prefect==0.14.16) (2.10)\n",
      "Requirement already satisfied: heapdict in /opt/conda/lib/python3.8/site-packages (from zict>=0.1.3->distributed>=2.17.0->prefect==0.14.16) (1.0.1)\n",
      "Collecting s3transfer<0.6.0,>=0.5.0\n",
      "  Downloading s3transfer-0.5.0-py3-none-any.whl (79 kB)\n",
      "\u001b[K     |████████████████████████████████| 79 kB 7.3 MB/s  eta 0:00:01\n",
      "\u001b[?25hCollecting jmespath<1.0.0,>=0.7.1\n",
      "  Downloading jmespath-0.10.0-py2.py3-none-any.whl (24 kB)\n",
      "Requirement already satisfied: databricks-cli>=0.8.7 in /opt/conda/lib/python3.8/site-packages (from mlflow) (0.14.3)\n",
      "Requirement already satisfied: gitpython>=2.1.0 in /opt/conda/lib/python3.8/site-packages (from mlflow) (3.1.18)\n",
      "Requirement already satisfied: prometheus-flask-exporter in /opt/conda/lib/python3.8/site-packages (from mlflow) (0.18.2)\n",
      "Requirement already satisfied: Flask in /opt/conda/lib/python3.8/site-packages (from mlflow) (1.1.4)\n",
      "Requirement already satisfied: entrypoints in /opt/conda/lib/python3.8/site-packages (from mlflow) (0.3)\n",
      "Requirement already satisfied: numpy in /opt/conda/lib/python3.8/site-packages (from mlflow) (1.18.1)\n",
      "Requirement already satisfied: sqlparse>=0.3.1 in /opt/conda/lib/python3.8/site-packages (from mlflow) (0.4.1)\n",
      "Requirement already satisfied: querystring-parser in /opt/conda/lib/python3.8/site-packages (from mlflow) (1.2.4)\n",
      "Requirement already satisfied: protobuf>=3.6.0 in /opt/conda/lib/python3.8/site-packages (from mlflow) (3.17.3)\n",
      "Requirement already satisfied: alembic<=1.4.1 in /opt/conda/lib/python3.8/site-packages (from mlflow) (1.4.1)\n",
      "Requirement already satisfied: gunicorn in /opt/conda/lib/python3.8/site-packages (from mlflow) (20.0.4)\n",
      "Requirement already satisfied: sqlalchemy in /opt/conda/lib/python3.8/site-packages (from mlflow) (1.3.23)\n",
      "Requirement already satisfied: Mako in /opt/conda/lib/python3.8/site-packages (from alembic<=1.4.1->mlflow) (1.1.4)\n",
      "Requirement already satisfied: python-editor>=0.3 in /opt/conda/lib/python3.8/site-packages (from alembic<=1.4.1->mlflow) (1.0.4)\n",
      "Requirement already satisfied: gitdb<5,>=4.0.1 in /opt/conda/lib/python3.8/site-packages (from gitpython>=2.1.0->mlflow) (4.0.7)\n",
      "Requirement already satisfied: smmap<5,>=3.0.1 in /opt/conda/lib/python3.8/site-packages (from gitdb<5,>=4.0.1->gitpython>=2.1.0->mlflow) (4.0.0)\n",
      "Collecting scikit-learn\n",
      "  Downloading scikit_learn-1.0.1-cp38-cp38-manylinux_2_12_x86_64.manylinux2010_x86_64.whl (25.9 MB)\n",
      "\u001b[K     |████████████████████████████████| 25.9 MB 47.5 MB/s eta 0:00:01\n",
      "\u001b[?25hRequirement already satisfied: Werkzeug<2.0,>=0.15 in /opt/conda/lib/python3.8/site-packages (from Flask->mlflow) (1.0.1)\n",
      "Requirement already satisfied: Jinja2<3.0,>=2.10.1 in /opt/conda/lib/python3.8/site-packages (from Flask->mlflow) (2.11.3)\n",
      "Requirement already satisfied: itsdangerous<2.0,>=0.24 in /opt/conda/lib/python3.8/site-packages (from Flask->mlflow) (1.1.0)\n",
      "Requirement already satisfied: MarkupSafe>=0.23 in /opt/conda/lib/python3.8/site-packages (from Jinja2<3.0,>=2.10.1->Flask->mlflow) (1.1.1)\n",
      "Requirement already satisfied: prometheus-client in /opt/conda/lib/python3.8/site-packages (from prometheus-flask-exporter->mlflow) (0.8.0)\n",
      "Collecting joblib>=0.11\n",
      "  Downloading joblib-1.1.0-py2.py3-none-any.whl (306 kB)\n",
      "\u001b[K     |████████████████████████████████| 306 kB 45.7 MB/s eta 0:00:01\n",
      "\u001b[?25hCollecting scipy>=1.1.0\n",
      "  Downloading scipy-1.7.1-cp38-cp38-manylinux_2_5_x86_64.manylinux1_x86_64.whl (28.4 MB)\n",
      "\u001b[K     |████████████████████████████████| 28.4 MB 42.1 MB/s eta 0:00:01\n",
      "\u001b[?25hCollecting threadpoolctl>=2.0.0\n",
      "  Downloading threadpoolctl-3.0.0-py3-none-any.whl (14 kB)\n",
      "Building wheels for collected packages: sklearn\n",
      "  Building wheel for sklearn (setup.py) ... \u001b[?25ldone\n",
      "\u001b[?25h  Created wheel for sklearn: filename=sklearn-0.0-py2.py3-none-any.whl size=1316 sha256=578f668204923a612083e747580febf514f852f7a7e42fc4901653ab8c6ff971\n",
      "  Stored in directory: /home/jovyan/.cache/pip/wheels/22/0b/40/fd3f795caaa1fb4c6cb738bc1f56100be1e57da95849bfc897\n",
      "Successfully built sklearn\n",
      "Installing collected packages: jmespath, threadpoolctl, scipy, joblib, botocore, scikit-learn, s3transfer, sklearn, prefect, boto3\n",
      "\u001b[33m  WARNING: The script prefect is installed in '/home/jovyan/.local/bin' which is not on PATH.\n",
      "  Consider adding this directory to PATH or, if you prefer to suppress this warning, use --no-warn-script-location.\u001b[0m\n",
      "Successfully installed boto3-1.19.9 botocore-1.22.9 jmespath-0.10.0 joblib-1.1.0 prefect-0.14.16 s3transfer-0.5.0 scikit-learn-1.0.1 scipy-1.7.1 sklearn-0.0 threadpoolctl-3.0.0\n"
     ]
    }
   ],
   "source": [
    "!pip install sklearn boto3 botocore mlflow pandas prefect==0.14.16 --user\n",
    "\n",
    "# Restart kernel once this is done for the first time"
   ]
  },
  {
   "cell_type": "code",
   "execution_count": 1,
   "metadata": {},
   "outputs": [],
   "source": [
    "from prefect import task, Flow, Parameter, Client\n",
    "from prefect.run_configs import KubernetesRun\n",
    "from prefect.schedules import IntervalSchedule\n",
    "from prefect.storage import S3, Local\n",
    "\n",
    "from sklearn.metrics import mean_squared_error, mean_absolute_error, r2_score\n",
    "from sklearn.model_selection import train_test_split\n",
    "from sklearn.linear_model import ElasticNet\n",
    "\n",
    "from datetime import timedelta\n",
    "\n",
    "import numpy as np\n",
    "import pandas as pd\n",
    "\n",
    "import mlflow\n",
    "import requests"
   ]
  },
  {
   "cell_type": "code",
   "execution_count": 2,
   "metadata": {},
   "outputs": [],
   "source": [
    "def eval_metrics(actual, pred):\n",
    "    rmse = np.sqrt(mean_squared_error(actual, pred))\n",
    "    mae = mean_absolute_error(actual, pred)\n",
    "    r2 = r2_score(actual, pred)\n",
    "    return rmse, mae, r2\n",
    "\n",
    "@task\n",
    "def fetch_data():\n",
    "    csv_url = \"http://archive.ics.uci.edu/ml/machine-learning-databases/wine-quality/winequality-red.csv\"\n",
    "    data = pd.read_csv(csv_url, sep=\";\")\n",
    "    return data\n",
    " \n",
    "@task\n",
    "def train_model(data, mlflow_experiment_id, alpha=0.5, l1_ratio=0.5):\n",
    "    mlflow.set_tracking_uri(\"http://mlflow.mlflow:5000\")\n",
    " \n",
    "    train, test = train_test_split(data)\n",
    " \n",
    "    # The predicted column is \"quality\" which is a scalar from [3, 9]\n",
    "    train_x = train.drop([\"quality\"], axis=1)\n",
    "    test_x = test.drop([\"quality\"], axis=1)\n",
    "    train_y = train[[\"quality\"]]\n",
    "    test_y = test[[\"quality\"]]\n",
    "    \n",
    "    with mlflow.start_run(experiment_id=mlflow_experiment_id):\n",
    "        lr = ElasticNet(alpha=alpha, l1_ratio=l1_ratio, random_state=42)\n",
    "        lr.fit(train_x, train_y)\n",
    "        predicted_qualities = lr.predict(test_x)\n",
    "        (rmse, mae, r2) = eval_metrics(test_y, predicted_qualities)\n",
    " \n",
    "        print(\"Elasticnet model (alpha=%f, l1_ratio=%f):\" % (alpha, l1_ratio))\n",
    "        print(\"  RMSE: %s\" % rmse)\n",
    "        print(\"  MAE: %s\" % mae)\n",
    "        print(\"  R2: %s\" % r2)\n",
    " \n",
    "        mlflow.log_param(\"alpha\", alpha)\n",
    "        mlflow.log_param(\"l1_ratio\", l1_ratio)\n",
    "        mlflow.log_metric(\"rmse\", rmse)\n",
    "        mlflow.log_metric(\"r2\", r2)\n",
    "        mlflow.log_metric(\"mae\", mae)\n",
    " \n",
    "        mlflow.sklearn.log_model(lr, \"model\")"
   ]
  },
  {
   "cell_type": "code",
   "execution_count": 3,
   "metadata": {},
   "outputs": [],
   "source": [
    "import os\n",
    "os.environ['MLFLOW_S3_ENDPOINT_URL'] = 'http://minio.minio:9000'\n",
    "os.environ['MLFLOW_TRACKING_URI'] = 'http://mlflow.mlflow:5000' # need for MLFlow model API\n",
    "os.environ['ARTIFACT_ROOT'] = 's3://mlflow'\n",
    "os.environ['AWS_ACCESS_KEY_ID'] = 'admin'\n",
    "os.environ['AWS_SECRET_ACCESS_KEY'] = 'admintest'"
   ]
  },
  {
   "cell_type": "code",
   "execution_count": 4,
   "metadata": {},
   "outputs": [
    {
     "data": {
      "text/plain": [
       "'3.8.6 | packaged by conda-forge | (default, Dec 26 2020, 05:05:16) \\n[GCC 9.3.0]'"
      ]
     },
     "execution_count": 4,
     "metadata": {},
     "output_type": "execute_result"
    }
   ],
   "source": [
    "import sys\n",
    "sys.version"
   ]
  },
  {
   "cell_type": "code",
   "execution_count": 8,
   "metadata": {},
   "outputs": [
    {
     "name": "stdout",
     "output_type": "stream",
     "text": [
      "{'data': {'flow': [{'id': 'a6b5c184-420b-487a-b4aa-2d349f1e0038'}, {'id': 'add41086-258a-4925-b655-a62451421848'}, {'id': '76794496-1570-411b-b00e-8f6195563c6c'}, {'id': '15fd6cc2-170a-442e-8279-be93d8e2faea'}, {'id': '4d1e91a0-d96d-478d-9d4d-17e3c2f6dcf5'}, {'id': '3764d95d-708e-42ff-8699-99d1e9741ab5'}, {'id': '06bcf44c-a804-415f-8819-92d225a66667'}, {'id': '95790356-3d5e-416f-9b32-ee96940e898e'}, {'id': '87201a3f-2742-448f-a2e9-c2071216c4c7'}, {'id': 'a59dde97-9a55-4d56-b625-df492d449591'}, {'id': '04cb3ccc-e2b0-4847-bf5a-929def7eee0d'}]}}\n",
      "[2021-11-03 13:04:45+0000] INFO - prefect.S3 | Uploading train-wine-quality-model-v22/2021-11-03t13-04-45-020640-00-00 to mlflow\n"
     ]
    },
    {
     "name": "stderr",
     "output_type": "stream",
     "text": [
      "<ipython-input-8-f31f55d3ba84>:49: UserWarning: No result handler was specified on your Flow. Cloud features such as input caching and resuming task runs from failure may not work properly.\n",
      "  training_flow_id = prefect_client.register(flow, project_name=prefect_project_name)\n"
     ]
    },
    {
     "ename": "ClientError",
     "evalue": "400 Client Error: Bad Request for url: http://10.111.209.84:4200/graphql\n\nThe following error messages were provided by the GraphQL server:\n\n    GRAPHQL_VALIDATION_FAILED: Cannot query field \"user\" on type \"Query\".\n\nThe GraphQL query was:\n\n    query {\n            user {\n                default_membership {\n                    tenant {\n                        slug\n                }\n            }\n        }\n    }\n\nThe passed variables were:\n\n    null\n",
     "output_type": "error",
     "traceback": [
      "\u001b[0;31m---------------------------------------------------------------------------\u001b[0m",
      "\u001b[0;31mHTTPError\u001b[0m                                 Traceback (most recent call last)",
      "\u001b[0;32m~/.local/lib/python3.8/site-packages/prefect/client/client.py\u001b[0m in \u001b[0;36m_send_request\u001b[0;34m(self, session, method, url, params, headers)\u001b[0m\n\u001b[1;32m    374\u001b[0m         \u001b[0;32mtry\u001b[0m\u001b[0;34m:\u001b[0m\u001b[0;34m\u001b[0m\u001b[0;34m\u001b[0m\u001b[0m\n\u001b[0;32m--> 375\u001b[0;31m             \u001b[0mresponse\u001b[0m\u001b[0;34m.\u001b[0m\u001b[0mraise_for_status\u001b[0m\u001b[0;34m(\u001b[0m\u001b[0;34m)\u001b[0m\u001b[0;34m\u001b[0m\u001b[0;34m\u001b[0m\u001b[0m\n\u001b[0m\u001b[1;32m    376\u001b[0m         \u001b[0;32mexcept\u001b[0m \u001b[0mrequests\u001b[0m\u001b[0;34m.\u001b[0m\u001b[0mHTTPError\u001b[0m \u001b[0;32mas\u001b[0m \u001b[0mexc\u001b[0m\u001b[0;34m:\u001b[0m\u001b[0;34m\u001b[0m\u001b[0;34m\u001b[0m\u001b[0m\n",
      "\u001b[0;32m/opt/conda/lib/python3.8/site-packages/requests/models.py\u001b[0m in \u001b[0;36mraise_for_status\u001b[0;34m(self)\u001b[0m\n\u001b[1;32m    942\u001b[0m         \u001b[0;32mif\u001b[0m \u001b[0mhttp_error_msg\u001b[0m\u001b[0;34m:\u001b[0m\u001b[0;34m\u001b[0m\u001b[0;34m\u001b[0m\u001b[0m\n\u001b[0;32m--> 943\u001b[0;31m             \u001b[0;32mraise\u001b[0m \u001b[0mHTTPError\u001b[0m\u001b[0;34m(\u001b[0m\u001b[0mhttp_error_msg\u001b[0m\u001b[0;34m,\u001b[0m \u001b[0mresponse\u001b[0m\u001b[0;34m=\u001b[0m\u001b[0mself\u001b[0m\u001b[0;34m)\u001b[0m\u001b[0;34m\u001b[0m\u001b[0;34m\u001b[0m\u001b[0m\n\u001b[0m\u001b[1;32m    944\u001b[0m \u001b[0;34m\u001b[0m\u001b[0m\n",
      "\u001b[0;31mHTTPError\u001b[0m: 400 Client Error: Bad Request for url: http://10.111.209.84:4200/graphql",
      "\nThe above exception was the direct cause of the following exception:\n",
      "\u001b[0;31mClientError\u001b[0m                               Traceback (most recent call last)",
      "\u001b[0;32m<ipython-input-8-f31f55d3ba84>\u001b[0m in \u001b[0;36m<module>\u001b[0;34m\u001b[0m\n\u001b[1;32m     51\u001b[0m     \u001b[0mflow_run_id\u001b[0m \u001b[0;34m=\u001b[0m \u001b[0mprefect_client\u001b[0m\u001b[0;34m.\u001b[0m\u001b[0mcreate_flow_run\u001b[0m\u001b[0;34m(\u001b[0m\u001b[0mflow_id\u001b[0m\u001b[0;34m=\u001b[0m\u001b[0mtraining_flow_id\u001b[0m\u001b[0;34m,\u001b[0m \u001b[0mrun_name\u001b[0m\u001b[0;34m=\u001b[0m\u001b[0;34mf\"run {prefect_project_name}\"\u001b[0m\u001b[0;34m)\u001b[0m\u001b[0;34m\u001b[0m\u001b[0;34m\u001b[0m\u001b[0m\n\u001b[1;32m     52\u001b[0m \u001b[0;34m\u001b[0m\u001b[0m\n\u001b[0;32m---> 53\u001b[0;31m \u001b[0mcreate_prefect_flow\u001b[0m\u001b[0;34m(\u001b[0m\u001b[0;34m)\u001b[0m\u001b[0;34m\u001b[0m\u001b[0;34m\u001b[0m\u001b[0m\n\u001b[0m",
      "\u001b[0;32m<ipython-input-8-f31f55d3ba84>\u001b[0m in \u001b[0;36mcreate_prefect_flow\u001b[0;34m()\u001b[0m\n\u001b[1;32m     47\u001b[0m     \u001b[0;31m#flow.run()\u001b[0m\u001b[0;34m\u001b[0m\u001b[0;34m\u001b[0m\u001b[0;34m\u001b[0m\u001b[0m\n\u001b[1;32m     48\u001b[0m     \u001b[0;31m#prefect_client.create_project(project_name=prefect_project_name)\u001b[0m\u001b[0;34m\u001b[0m\u001b[0;34m\u001b[0m\u001b[0;34m\u001b[0m\u001b[0m\n\u001b[0;32m---> 49\u001b[0;31m     \u001b[0mtraining_flow_id\u001b[0m \u001b[0;34m=\u001b[0m \u001b[0mprefect_client\u001b[0m\u001b[0;34m.\u001b[0m\u001b[0mregister\u001b[0m\u001b[0;34m(\u001b[0m\u001b[0mflow\u001b[0m\u001b[0;34m,\u001b[0m \u001b[0mproject_name\u001b[0m\u001b[0;34m=\u001b[0m\u001b[0mprefect_project_name\u001b[0m\u001b[0;34m)\u001b[0m\u001b[0;34m\u001b[0m\u001b[0;34m\u001b[0m\u001b[0m\n\u001b[0m\u001b[1;32m     50\u001b[0m \u001b[0;34m\u001b[0m\u001b[0m\n\u001b[1;32m     51\u001b[0m     \u001b[0mflow_run_id\u001b[0m \u001b[0;34m=\u001b[0m \u001b[0mprefect_client\u001b[0m\u001b[0;34m.\u001b[0m\u001b[0mcreate_flow_run\u001b[0m\u001b[0;34m(\u001b[0m\u001b[0mflow_id\u001b[0m\u001b[0;34m=\u001b[0m\u001b[0mtraining_flow_id\u001b[0m\u001b[0;34m,\u001b[0m \u001b[0mrun_name\u001b[0m\u001b[0;34m=\u001b[0m\u001b[0;34mf\"run {prefect_project_name}\"\u001b[0m\u001b[0;34m)\u001b[0m\u001b[0;34m\u001b[0m\u001b[0;34m\u001b[0m\u001b[0m\n",
      "\u001b[0;32m~/.local/lib/python3.8/site-packages/prefect/client/client.py\u001b[0m in \u001b[0;36mregister\u001b[0;34m(self, flow, project_name, build, set_schedule_active, version_group_id, compressed, no_url, idempotency_key)\u001b[0m\n\u001b[1;32m    857\u001b[0m \u001b[0;34m\u001b[0m\u001b[0m\n\u001b[1;32m    858\u001b[0m             \u001b[0;31m# Generate direct link to Cloud flow\u001b[0m\u001b[0;34m\u001b[0m\u001b[0;34m\u001b[0m\u001b[0;34m\u001b[0m\u001b[0m\n\u001b[0;32m--> 859\u001b[0;31m             \u001b[0mflow_url\u001b[0m \u001b[0;34m=\u001b[0m \u001b[0mself\u001b[0m\u001b[0;34m.\u001b[0m\u001b[0mget_cloud_url\u001b[0m\u001b[0;34m(\u001b[0m\u001b[0;34m\"flow\"\u001b[0m\u001b[0;34m,\u001b[0m \u001b[0mflow_group_id\u001b[0m\u001b[0;34m)\u001b[0m\u001b[0;34m\u001b[0m\u001b[0;34m\u001b[0m\u001b[0m\n\u001b[0m\u001b[1;32m    860\u001b[0m \u001b[0;34m\u001b[0m\u001b[0m\n\u001b[1;32m    861\u001b[0m             \u001b[0mprefix\u001b[0m \u001b[0;34m=\u001b[0m \u001b[0;34m\"└── \"\u001b[0m\u001b[0;34m\u001b[0m\u001b[0;34m\u001b[0m\u001b[0m\n",
      "\u001b[0;32m~/.local/lib/python3.8/site-packages/prefect/client/client.py\u001b[0m in \u001b[0;36mget_cloud_url\u001b[0;34m(self, subdirectory, id, as_user)\u001b[0m\n\u001b[1;32m    906\u001b[0m         \u001b[0;31m# Search for matching cloud API because we can't guarantee that the backend config is set\u001b[0m\u001b[0;34m\u001b[0m\u001b[0;34m\u001b[0m\u001b[0;34m\u001b[0m\u001b[0m\n\u001b[1;32m    907\u001b[0m         \u001b[0musing_cloud_api\u001b[0m \u001b[0;34m=\u001b[0m \u001b[0;34m\".prefect.io\"\u001b[0m \u001b[0;32min\u001b[0m \u001b[0mprefect\u001b[0m\u001b[0;34m.\u001b[0m\u001b[0mconfig\u001b[0m\u001b[0;34m.\u001b[0m\u001b[0mcloud\u001b[0m\u001b[0;34m.\u001b[0m\u001b[0mapi\u001b[0m\u001b[0;34m\u001b[0m\u001b[0;34m\u001b[0m\u001b[0m\n\u001b[0;32m--> 908\u001b[0;31m         \u001b[0mtenant_slug\u001b[0m \u001b[0;34m=\u001b[0m \u001b[0mself\u001b[0m\u001b[0;34m.\u001b[0m\u001b[0mget_default_tenant_slug\u001b[0m\u001b[0;34m(\u001b[0m\u001b[0mas_user\u001b[0m\u001b[0;34m=\u001b[0m\u001b[0mas_user\u001b[0m \u001b[0;32mand\u001b[0m \u001b[0musing_cloud_api\u001b[0m\u001b[0;34m)\u001b[0m\u001b[0;34m\u001b[0m\u001b[0;34m\u001b[0m\u001b[0m\n\u001b[0m\u001b[1;32m    909\u001b[0m \u001b[0;34m\u001b[0m\u001b[0m\n\u001b[1;32m    910\u001b[0m         \u001b[0;31m# For various API versions parse out `api-` for direct UI link\u001b[0m\u001b[0;34m\u001b[0m\u001b[0;34m\u001b[0m\u001b[0;34m\u001b[0m\u001b[0m\n",
      "\u001b[0;32m~/.local/lib/python3.8/site-packages/prefect/client/client.py\u001b[0m in \u001b[0;36mget_default_tenant_slug\u001b[0;34m(self, as_user)\u001b[0m\n\u001b[1;32m    939\u001b[0m             \u001b[0mquery\u001b[0m \u001b[0;34m=\u001b[0m \u001b[0;34m{\u001b[0m\u001b[0;34m\"query\"\u001b[0m\u001b[0;34m:\u001b[0m \u001b[0;34m{\u001b[0m\u001b[0;34m\"tenant\"\u001b[0m\u001b[0;34m:\u001b[0m \u001b[0;34m{\u001b[0m\u001b[0;34m\"slug\"\u001b[0m\u001b[0;34m}\u001b[0m\u001b[0;34m}\u001b[0m\u001b[0;34m}\u001b[0m\u001b[0;34m\u001b[0m\u001b[0;34m\u001b[0m\u001b[0m\n\u001b[1;32m    940\u001b[0m \u001b[0;34m\u001b[0m\u001b[0m\n\u001b[0;32m--> 941\u001b[0;31m         \u001b[0mres\u001b[0m \u001b[0;34m=\u001b[0m \u001b[0mself\u001b[0m\u001b[0;34m.\u001b[0m\u001b[0mgraphql\u001b[0m\u001b[0;34m(\u001b[0m\u001b[0mquery\u001b[0m\u001b[0;34m)\u001b[0m\u001b[0;34m\u001b[0m\u001b[0;34m\u001b[0m\u001b[0m\n\u001b[0m\u001b[1;32m    942\u001b[0m \u001b[0;34m\u001b[0m\u001b[0m\n\u001b[1;32m    943\u001b[0m         \u001b[0;32mif\u001b[0m \u001b[0mas_user\u001b[0m\u001b[0;34m:\u001b[0m\u001b[0;34m\u001b[0m\u001b[0;34m\u001b[0m\u001b[0m\n",
      "\u001b[0;32m~/.local/lib/python3.8/site-packages/prefect/client/client.py\u001b[0m in \u001b[0;36mgraphql\u001b[0;34m(self, query, raise_on_error, headers, variables, token, retry_on_api_error)\u001b[0m\n\u001b[1;32m    296\u001b[0m             \u001b[0;34m-\u001b[0m \u001b[0mClientError\u001b[0m \u001b[0;32mif\u001b[0m \u001b[0mthere\u001b[0m \u001b[0mare\u001b[0m \u001b[0merrors\u001b[0m \u001b[0mraised\u001b[0m \u001b[0mby\u001b[0m \u001b[0mthe\u001b[0m \u001b[0mGraphQL\u001b[0m \u001b[0mmutation\u001b[0m\u001b[0;34m\u001b[0m\u001b[0;34m\u001b[0m\u001b[0m\n\u001b[1;32m    297\u001b[0m         \"\"\"\n\u001b[0;32m--> 298\u001b[0;31m         result = self.post(\n\u001b[0m\u001b[1;32m    299\u001b[0m             \u001b[0mpath\u001b[0m\u001b[0;34m=\u001b[0m\u001b[0;34m\"\"\u001b[0m\u001b[0;34m,\u001b[0m\u001b[0;34m\u001b[0m\u001b[0;34m\u001b[0m\u001b[0m\n\u001b[1;32m    300\u001b[0m             \u001b[0mserver\u001b[0m\u001b[0;34m=\u001b[0m\u001b[0mself\u001b[0m\u001b[0;34m.\u001b[0m\u001b[0mapi_server\u001b[0m\u001b[0;34m,\u001b[0m\u001b[0;34m\u001b[0m\u001b[0;34m\u001b[0m\u001b[0m\n",
      "\u001b[0;32m~/.local/lib/python3.8/site-packages/prefect/client/client.py\u001b[0m in \u001b[0;36mpost\u001b[0;34m(self, path, server, headers, params, token, retry_on_api_error)\u001b[0m\n\u001b[1;32m    211\u001b[0m             \u001b[0;34m-\u001b[0m \u001b[0mdict\u001b[0m\u001b[0;34m:\u001b[0m \u001b[0mDictionary\u001b[0m \u001b[0mrepresentation\u001b[0m \u001b[0mof\u001b[0m \u001b[0mthe\u001b[0m \u001b[0mrequest\u001b[0m \u001b[0mmade\u001b[0m\u001b[0;34m\u001b[0m\u001b[0;34m\u001b[0m\u001b[0m\n\u001b[1;32m    212\u001b[0m         \"\"\"\n\u001b[0;32m--> 213\u001b[0;31m         response = self._request(\n\u001b[0m\u001b[1;32m    214\u001b[0m             \u001b[0mmethod\u001b[0m\u001b[0;34m=\u001b[0m\u001b[0;34m\"POST\"\u001b[0m\u001b[0;34m,\u001b[0m\u001b[0;34m\u001b[0m\u001b[0;34m\u001b[0m\u001b[0m\n\u001b[1;32m    215\u001b[0m             \u001b[0mpath\u001b[0m\u001b[0;34m=\u001b[0m\u001b[0mpath\u001b[0m\u001b[0;34m,\u001b[0m\u001b[0;34m\u001b[0m\u001b[0;34m\u001b[0m\u001b[0m\n",
      "\u001b[0;32m~/.local/lib/python3.8/site-packages/prefect/client/client.py\u001b[0m in \u001b[0;36m_request\u001b[0;34m(self, method, path, params, server, headers, token, retry_on_api_error)\u001b[0m\n\u001b[1;32m    457\u001b[0m         )\n\u001b[1;32m    458\u001b[0m         \u001b[0msession\u001b[0m\u001b[0;34m.\u001b[0m\u001b[0mmount\u001b[0m\u001b[0;34m(\u001b[0m\u001b[0;34m\"https://\"\u001b[0m\u001b[0;34m,\u001b[0m \u001b[0mrequests\u001b[0m\u001b[0;34m.\u001b[0m\u001b[0madapters\u001b[0m\u001b[0;34m.\u001b[0m\u001b[0mHTTPAdapter\u001b[0m\u001b[0;34m(\u001b[0m\u001b[0mmax_retries\u001b[0m\u001b[0;34m=\u001b[0m\u001b[0mretries\u001b[0m\u001b[0;34m)\u001b[0m\u001b[0;34m)\u001b[0m\u001b[0;34m\u001b[0m\u001b[0;34m\u001b[0m\u001b[0m\n\u001b[0;32m--> 459\u001b[0;31m         response = self._send_request(\n\u001b[0m\u001b[1;32m    460\u001b[0m             \u001b[0msession\u001b[0m\u001b[0;34m=\u001b[0m\u001b[0msession\u001b[0m\u001b[0;34m,\u001b[0m \u001b[0mmethod\u001b[0m\u001b[0;34m=\u001b[0m\u001b[0mmethod\u001b[0m\u001b[0;34m,\u001b[0m \u001b[0murl\u001b[0m\u001b[0;34m=\u001b[0m\u001b[0murl\u001b[0m\u001b[0;34m,\u001b[0m \u001b[0mparams\u001b[0m\u001b[0;34m=\u001b[0m\u001b[0mparams\u001b[0m\u001b[0;34m,\u001b[0m \u001b[0mheaders\u001b[0m\u001b[0;34m=\u001b[0m\u001b[0mheaders\u001b[0m\u001b[0;34m\u001b[0m\u001b[0;34m\u001b[0m\u001b[0m\n\u001b[1;32m    461\u001b[0m         )\n",
      "\u001b[0;32m~/.local/lib/python3.8/site-packages/prefect/client/client.py\u001b[0m in \u001b[0;36m_send_request\u001b[0;34m(self, session, method, url, params, headers)\u001b[0m\n\u001b[1;32m    386\u001b[0m                         \u001b[0;34m\"mutation but the response could not be parsed for more details\"\u001b[0m\u001b[0;34m\u001b[0m\u001b[0;34m\u001b[0m\u001b[0m\n\u001b[1;32m    387\u001b[0m                     )\n\u001b[0;32m--> 388\u001b[0;31m                 \u001b[0;32mraise\u001b[0m \u001b[0mClientError\u001b[0m\u001b[0;34m(\u001b[0m\u001b[0;34mf\"{exc}\\n{graphql_msg}\"\u001b[0m\u001b[0;34m)\u001b[0m \u001b[0;32mfrom\u001b[0m \u001b[0mexc\u001b[0m\u001b[0;34m\u001b[0m\u001b[0;34m\u001b[0m\u001b[0m\n\u001b[0m\u001b[1;32m    389\u001b[0m \u001b[0;34m\u001b[0m\u001b[0m\n\u001b[1;32m    390\u001b[0m             \u001b[0;31m# Server-side and non-graphql errors will be raised without modification\u001b[0m\u001b[0;34m\u001b[0m\u001b[0;34m\u001b[0m\u001b[0;34m\u001b[0m\u001b[0m\n",
      "\u001b[0;31mClientError\u001b[0m: 400 Client Error: Bad Request for url: http://10.111.209.84:4200/graphql\n\nThe following error messages were provided by the GraphQL server:\n\n    GRAPHQL_VALIDATION_FAILED: Cannot query field \"user\" on type \"Query\".\n\nThe GraphQL query was:\n\n    query {\n            user {\n                default_membership {\n                    tenant {\n                        slug\n                }\n            }\n        }\n    }\n\nThe passed variables were:\n\n    null\n"
     ]
    }
   ],
   "source": [
    "domain = \"mlops.ritza-route53.com\"\n",
    "username = \"gareth@ritza.co\" \n",
    "password = \"DkguP5GsB9yiPk8\"\n",
    "s3_bucket = \"another-mlops-bucket\"\n",
    "\n",
    "auth_url = f\"https://{domain}/.ory/kratos/public/self-service/login/api\"\n",
    "prefect_url = f\"http://10.111.209.84:4200/graphql\" # TODO: change it\n",
    "\n",
    "prefect_project_name = \"wine-quality-project\"\n",
    "docker_image = \"prefecthq/prefect:0.14.6-python3.8\" # do not change\n",
    "\n",
    "\n",
    "def create_prefect_flow():\n",
    "    run_config = KubernetesRun(\n",
    "        labels=[\"dev\"],\n",
    "        service_account_name=\"prefect-server-serviceaccount\",\n",
    "        image=docker_image,\n",
    "        env={\"EXTRA_PIP_PACKAGES\": \"sklearn boto3 botocore mlflow pandas\",\n",
    "             \"MLFLOW_S3_ENDPOINT_URL\": os.getenv(\"MLFLOW_S3_ENDPOINT_URL\"),\n",
    "             \"AWS_ACCESS_KEY_ID\": os.getenv(\"AWS_ACCESS_KEY_ID\"),\n",
    "             \"AWS_SECRET_ACCESS_KEY\": os.getenv(\"AWS_SECRET_ACCESS_KEY\")\n",
    "            }\n",
    "    )\n",
    "    storage = Local()\n",
    "    storage = S3(bucket=\"mlflow\", \n",
    "                 client_options=dict(endpoint_url=os.getenv(\"MLFLOW_S3_ENDPOINT_URL\"), \n",
    "                                                     aws_access_key_id=os.getenv(\"AWS_ACCESS_KEY_ID\"),\n",
    "                                                     aws_secret_access_key=os.getenv(\"AWS_SECRET_ACCESS_KEY\")))\n",
    "\n",
    "    #session_token = get_prefect_token()\n",
    "    prefect_client = Client(api_server=prefect_url)\n",
    "    print(prefect_client.graphql(\n",
    "    {\n",
    "        'query': {\n",
    "            'flow': {\n",
    "                'id'\n",
    "            }\n",
    "        }\n",
    "    }\n",
    "    ))\n",
    "    schedule = IntervalSchedule(interval=timedelta(minutes=1))\n",
    "\n",
    "    with Flow(\"train-wine-quality-model-v22\", schedule=schedule, storage=storage, run_config=run_config) as flow:\n",
    "        data = fetch_data()\n",
    "        train_model(data=data, mlflow_experiment_id=1, alpha=0.3, l1_ratio=0.3)\n",
    "\n",
    "    #flow.run()\n",
    "    #prefect_client.create_project(project_name=prefect_project_name)\n",
    "    training_flow_id = prefect_client.register(flow, project_name=prefect_project_name)\n",
    "    \n",
    "    flow_run_id = prefect_client.create_flow_run(flow_id=training_flow_id, run_name=f\"run {prefect_project_name}\")\n",
    "    \n",
    "create_prefect_flow()\n"
   ]
  },
  {
   "cell_type": "raw",
   "metadata": {},
   "source": [
    "prefect.__version__"
   ]
  },
  {
   "cell_type": "code",
   "execution_count": 7,
   "metadata": {},
   "outputs": [
    {
     "data": {
      "text/plain": [
       "'0.14.12'"
      ]
     },
     "execution_count": 7,
     "metadata": {},
     "output_type": "execute_result"
    }
   ],
   "source": [
    "import prefect \n",
    "\n",
    "prefect.__version__"
   ]
  }
 ],
 "metadata": {
  "kernelspec": {
   "display_name": "Python 3",
   "language": "python",
   "name": "python3"
  },
  "language_info": {
   "codemirror_mode": {
    "name": "ipython",
    "version": 3
   },
   "file_extension": ".py",
   "mimetype": "text/x-python",
   "name": "python",
   "nbconvert_exporter": "python",
   "pygments_lexer": "ipython3",
   "version": "3.8.6"
  }
 },
 "nbformat": 4,
 "nbformat_minor": 4
}
